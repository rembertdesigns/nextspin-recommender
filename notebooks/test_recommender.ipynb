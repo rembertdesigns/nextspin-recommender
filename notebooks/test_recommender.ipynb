{
 "cells": [
  {
   "cell_type": "code",
   "execution_count": null,
   "metadata": {
    "vscode": {
     "languageId": "plaintext"
    }
   },
   "outputs": [],
   "source": [
    "from recommender.embedder import load_collection, build_taste_profile\n",
    "from recommender.recommender import TasteRecommender\n",
    "\n",
    "# Load sample data\n",
    "df = load_collection(\"../data/sample_collection.csv\")\n",
    "\n",
    "# Build taste vector\n",
    "taste_vector, _ = build_taste_profile(df)\n",
    "\n",
    "# Fit recommender on same collection (for now)\n",
    "rec = TasteRecommender()\n",
    "rec.fit(df)\n",
    "\n",
    "# Get recommendations\n",
    "recs, scores = rec.recommend(taste_vector)\n",
    "print(recs[['Artist', 'Title', 'Genre', 'Year']])\n",
    "print(\"Similarity scores:\", scores)\n"
   ]
  }
 ],
 "metadata": {
  "language_info": {
   "name": "python"
  }
 },
 "nbformat": 4,
 "nbformat_minor": 2
}
